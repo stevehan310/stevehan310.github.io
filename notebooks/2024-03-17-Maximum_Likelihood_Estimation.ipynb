{
 "cells": [
  {
   "cell_type": "markdown",
   "id": "ec7d844d-7b01-4eb6-a5dd-6d4492570e31",
   "metadata": {},
   "source": [
    "# Log Likelihood Estimation in Python"
   ]
  },
  {
   "cell_type": "code",
   "execution_count": 12,
   "id": "8609bfab-1cbb-49cb-94cf-a471932f80bd",
   "metadata": {},
   "outputs": [],
   "source": [
    "import numpy as np\n",
    "from scipy.optimize import minimize\n",
    "from scipy.stats import norm\n",
    "\n",
    "import matplotlib.pyplot as plt\n",
    "import seaborn as sns\n",
    "sns.set()"
   ]
  },
  {
   "cell_type": "code",
   "execution_count": 2,
   "id": "643bd57a-863d-43e0-b94c-ecb78b6d58f9",
   "metadata": {},
   "outputs": [],
   "source": [
    "# Define the true mean and standard deviation of the normal distribution.\n",
    "true_mean = 5\n",
    "true_std_dev = 2"
   ]
  },
  {
   "cell_type": "markdown",
   "id": "f09079d9-6908-4fd2-b79f-5225c8b6a7fd",
   "metadata": {},
   "source": [
    "## 1. Normal Distribution Parameter Estimation by Log Likelihood"
   ]
  },
  {
   "cell_type": "markdown",
   "id": "234adf3f-7d0b-436a-963a-a025394a6d49",
   "metadata": {},
   "source": [
    "### 1.1 Sample Size 100"
   ]
  },
  {
   "cell_type": "code",
   "execution_count": 3,
   "id": "126bac29-64a1-4946-832d-113c487a1fea",
   "metadata": {},
   "outputs": [],
   "source": [
    "# Generate sample data following a normal distribution.\n",
    "np.random.seed(42)  # Set seed for reproducibility.\n",
    "sample_data_100 = np.random.normal(loc=true_mean, scale=true_std_dev, size=100)"
   ]
  },
  {
   "cell_type": "code",
   "execution_count": 4,
   "id": "b7840518-9c08-4a4c-a533-d4711c2210a3",
   "metadata": {},
   "outputs": [
    {
     "data": {
      "text/plain": [
       "array([5.99342831, 4.7234714 , 6.29537708, 8.04605971, 4.53169325,\n",
       "       4.53172609, 8.15842563, 6.53486946, 4.06105123, 6.08512009])"
      ]
     },
     "execution_count": 4,
     "metadata": {},
     "output_type": "execute_result"
    }
   ],
   "source": [
    "sample_data_100[0:10]"
   ]
  },
  {
   "cell_type": "code",
   "execution_count": 5,
   "id": "187256d1-5259-4f3b-bcb9-c71fb992c6e1",
   "metadata": {},
   "outputs": [],
   "source": [
    "# Define the log likelihood function.\n",
    "def log_likelihood_normal(params, data):\n",
    "    mean, std_dev = params\n",
    "    log_likelihoods = norm.logpdf(data, loc=mean, scale=std_dev)\n",
    "    return -np.sum(log_likelihoods) # This is log likelihood so needs to add negative '-' to maximize likelihood"
   ]
  },
  {
   "cell_type": "code",
   "execution_count": 6,
   "id": "90084354-44e3-462e-ac38-6699d965ecfe",
   "metadata": {},
   "outputs": [
    {
     "name": "stdout",
     "output_type": "stream",
     "text": [
      "Estimated mean: 4.79\n",
      "Estimated standard deviation: 1.81\n",
      "True mean: 5\n",
      "True standard deviation: 2\n"
     ]
    }
   ],
   "source": [
    "# Set initial guess for parameters.\n",
    "initial_guess = [0, 1]\n",
    "# Set bounds for parameters to ensure reasonable values.\n",
    "bounds = [(-10, 10), (0.1, 10)]\n",
    "\n",
    "# Calculate MLE by minimizing the log likelihood.\n",
    "result = minimize(log_likelihood_normal, x0=initial_guess, args=(sample_data_100,), bounds=bounds)\n",
    "estimated_mean, estimated_std_dev = result.x\n",
    "\n",
    "# Print the estimated mean and standard deviation.\n",
    "print(\"Estimated mean:\", f'{estimated_mean:.2f}')\n",
    "print(\"Estimated standard deviation:\", f'{estimated_std_dev:.2f}')\n",
    "\n",
    "# Compare with the true mean and standard deviation.\n",
    "print(\"True mean:\", true_mean)\n",
    "print(\"True standard deviation:\", true_std_dev)"
   ]
  },
  {
   "cell_type": "markdown",
   "id": "63b2ab7b-6b5c-478b-abb8-232e8f54c20a",
   "metadata": {},
   "source": [
    "### Sample Size 1000"
   ]
  },
  {
   "cell_type": "code",
   "execution_count": 7,
   "id": "a07ca96d-e094-4707-9acf-b31dffff9436",
   "metadata": {},
   "outputs": [
    {
     "name": "stdout",
     "output_type": "stream",
     "text": [
      "Estimated mean: 5.09\n",
      "Estimated standard deviation: 1.97\n",
      "True mean: 5\n",
      "True standard deviation: 2\n"
     ]
    }
   ],
   "source": [
    "sample_data_1000 = np.random.normal(loc=true_mean, scale=true_std_dev, size=1000)\n",
    "# Set initial guess for parameters.\n",
    "initial_guess = [0, 1]\n",
    "# Set bounds for parameters to ensure reasonable values.\n",
    "bounds = [(-10, 10), (0.1, 10)]\n",
    "\n",
    "# Calculate MLE by minimizing the log likelihood.\n",
    "result = minimize(log_likelihood, x0=initial_guess, args=(sample_data_1000,), bounds=bounds)\n",
    "estimated_mean, estimated_std_dev = result.x\n",
    "\n",
    "# Print the estimated mean and standard deviation.\n",
    "print(\"Estimated mean:\", f'{estimated_mean:.2f}')\n",
    "print(\"Estimated standard deviation:\", f'{estimated_std_dev:.2f}')\n",
    "\n",
    "# Compare with the true mean and standard deviation.\n",
    "print(\"True mean:\", true_mean)\n",
    "print(\"True standard deviation:\", true_std_dev)"
   ]
  },
  {
   "cell_type": "markdown",
   "id": "f667a664-70c2-4eb2-a16e-fcf0b0743528",
   "metadata": {},
   "source": [
    "1000 Samples made more accurate estimations!!"
   ]
  },
  {
   "cell_type": "markdown",
   "id": "2883344a-8a4a-497e-8b0f-d604f7cf5750",
   "metadata": {},
   "source": [
    "## 2. Poisson Distribution Parameter Estimation by Log Likelihood"
   ]
  },
  {
   "cell_type": "code",
   "execution_count": 10,
   "id": "10ede981-7bf2-460b-89eb-56b283972b7a",
   "metadata": {},
   "outputs": [
    {
     "name": "stdout",
     "output_type": "stream",
     "text": [
      "Estimated lambda: 3.40\n",
      "True lambda: 3.5\n"
     ]
    }
   ],
   "source": [
    "from scipy.stats import poisson\n",
    "\n",
    "# True lambda parameter for Poisson distribution\n",
    "true_lambda = 3.5\n",
    "\n",
    "# Generate sample data following a Poisson distribution\n",
    "sample_data_poisson = np.random.poisson(lam=true_lambda, size=100)\n",
    "\n",
    "# Log likelihood function for Poisson distribution\n",
    "def log_likelihood_poisson(params, data):\n",
    "    lambda_param = params[0]\n",
    "    log_likelihoods = poisson.logpmf(data, mu=lambda_param)\n",
    "    return -np.sum(log_likelihoods)\n",
    "\n",
    "# Initial guess for lambda parameter\n",
    "initial_guess = [1]\n",
    "\n",
    "# Calculate MLE by minimizing the negative log likelihood\n",
    "result = minimize(log_likelihood_poisson, initial_guess, args=(sample_data_poisson,))\n",
    "estimated_lambda = result.x[0]\n",
    "\n",
    "# Print the estimated lambda parameter\n",
    "print(\"Estimated lambda:\", f'{estimated_lambda:.2f}')\n",
    "\n",
    "# Compare with the true lambda parameter\n",
    "print(\"True lambda:\", true_lambda)"
   ]
  }
 ],
 "metadata": {
  "kernelspec": {
   "display_name": "Python 3 (ipykernel)",
   "language": "python",
   "name": "python3"
  },
  "language_info": {
   "codemirror_mode": {
    "name": "ipython",
    "version": 3
   },
   "file_extension": ".py",
   "mimetype": "text/x-python",
   "name": "python",
   "nbconvert_exporter": "python",
   "pygments_lexer": "ipython3",
   "version": "3.11.5"
  }
 },
 "nbformat": 4,
 "nbformat_minor": 5
}
