{
 "cells": [
  {
   "cell_type": "markdown",
   "id": "130027dc-af56-4e77-9390-40d938321c39",
   "metadata": {},
   "source": [
    "# Diff in Diff Analysis practice"
   ]
  },
  {
   "cell_type": "code",
   "execution_count": 2,
   "id": "cc42cc9c-e3c6-4d33-975c-a84d9d2cfded",
   "metadata": {},
   "outputs": [
    {
     "data": {
      "text/plain": [
       "'%.2f'"
      ]
     },
     "execution_count": 2,
     "metadata": {},
     "output_type": "execute_result"
    }
   ],
   "source": [
    "import pandas as pd\n",
    "pd.options.display.float_format = '{:.2f}'.format\n",
    "\n",
    "%precision %.2f"
   ]
  },
  {
   "cell_type": "code",
   "execution_count": 62,
   "id": "fd092a8e-9885-4a8e-9822-e4b793175f40",
   "metadata": {},
   "outputs": [],
   "source": [
    "df = pd.read_csv('./data/employment.csv')"
   ]
  },
  {
   "cell_type": "markdown",
   "id": "9ad1333b-d4c8-4b1a-b479-45f16cd69954",
   "metadata": {},
   "source": [
    "The dataset is adapted from the dataset in Card and Krueger (1994), which estimates the causal effect of an increase in the state minimum wage on the employment.\n",
    "\n",
    "On April 1, 1992, New Jersey raised the state minimum wage from 4.25 USD to 5.05 USD while the minimum wage in Pennsylvania stays the same at 4.25 USD. data about employment in fast-food restaurants in NJ (0) and PA (1) were collected in February 1992 and in November 1992. 384 restaurants in total after removing null values The calculation of DID is simple:"
   ]
  },
  {
   "cell_type": "code",
   "execution_count": 63,
   "id": "8401886b-18b0-47bd-bd82-064e9f34f55f",
   "metadata": {},
   "outputs": [
    {
     "name": "stdout",
     "output_type": "stream",
     "text": [
      "<class 'pandas.core.frame.DataFrame'>\n",
      "RangeIndex: 384 entries, 0 to 383\n",
      "Data columns (total 3 columns):\n",
      " #   Column         Non-Null Count  Dtype  \n",
      "---  ------         --------------  -----  \n",
      " 0   state          384 non-null    int64  \n",
      " 1   total_emp_feb  384 non-null    float64\n",
      " 2   total_emp_nov  384 non-null    float64\n",
      "dtypes: float64(2), int64(1)\n",
      "memory usage: 9.1 KB\n"
     ]
    }
   ],
   "source": [
    "df.info()"
   ]
  },
  {
   "cell_type": "code",
   "execution_count": 64,
   "id": "a5a22dc7-1068-4bbd-a5d4-9a1bf51a4e61",
   "metadata": {},
   "outputs": [
    {
     "data": {
      "text/html": [
       "<div>\n",
       "<style scoped>\n",
       "    .dataframe tbody tr th:only-of-type {\n",
       "        vertical-align: middle;\n",
       "    }\n",
       "\n",
       "    .dataframe tbody tr th {\n",
       "        vertical-align: top;\n",
       "    }\n",
       "\n",
       "    .dataframe thead th {\n",
       "        text-align: right;\n",
       "    }\n",
       "</style>\n",
       "<table border=\"1\" class=\"dataframe\">\n",
       "  <thead>\n",
       "    <tr style=\"text-align: right;\">\n",
       "      <th></th>\n",
       "      <th>state</th>\n",
       "      <th>total_emp_feb</th>\n",
       "      <th>total_emp_nov</th>\n",
       "    </tr>\n",
       "  </thead>\n",
       "  <tbody>\n",
       "    <tr>\n",
       "      <th>0</th>\n",
       "      <td>0</td>\n",
       "      <td>40.50</td>\n",
       "      <td>24.00</td>\n",
       "    </tr>\n",
       "    <tr>\n",
       "      <th>1</th>\n",
       "      <td>0</td>\n",
       "      <td>13.75</td>\n",
       "      <td>11.50</td>\n",
       "    </tr>\n",
       "    <tr>\n",
       "      <th>2</th>\n",
       "      <td>0</td>\n",
       "      <td>8.50</td>\n",
       "      <td>10.50</td>\n",
       "    </tr>\n",
       "    <tr>\n",
       "      <th>3</th>\n",
       "      <td>0</td>\n",
       "      <td>34.00</td>\n",
       "      <td>20.00</td>\n",
       "    </tr>\n",
       "    <tr>\n",
       "      <th>4</th>\n",
       "      <td>0</td>\n",
       "      <td>24.00</td>\n",
       "      <td>35.50</td>\n",
       "    </tr>\n",
       "  </tbody>\n",
       "</table>\n",
       "</div>"
      ],
      "text/plain": [
       "   state  total_emp_feb  total_emp_nov\n",
       "0      0          40.50          24.00\n",
       "1      0          13.75          11.50\n",
       "2      0           8.50          10.50\n",
       "3      0          34.00          20.00\n",
       "4      0          24.00          35.50"
      ]
     },
     "execution_count": 64,
     "metadata": {},
     "output_type": "execute_result"
    }
   ],
   "source": [
    "df.head()"
   ]
  },
  {
   "cell_type": "code",
   "execution_count": 65,
   "id": "ebcc3d0d-b9fc-458c-b991-93ca763e96a6",
   "metadata": {},
   "outputs": [
    {
     "data": {
      "text/plain": [
       "1    309\n",
       "0     75\n",
       "Name: state, dtype: int64"
      ]
     },
     "execution_count": 65,
     "metadata": {},
     "output_type": "execute_result"
    }
   ],
   "source": [
    "df.state.value_counts()"
   ]
  },
  {
   "cell_type": "markdown",
   "id": "6ee5840e-4a75-4295-b4de-e9673da83769",
   "metadata": {},
   "source": [
    "# New Jersey data"
   ]
  },
  {
   "cell_type": "code",
   "execution_count": 6,
   "id": "15753d91-2694-4372-9fe3-3845505f3ea0",
   "metadata": {},
   "outputs": [
    {
     "name": "stderr",
     "output_type": "stream",
     "text": [
      "/var/folders/8c/3nykxypj32j_z4l0d64bln480000gp/T/ipykernel_99260/3770020265.py:3: SettingWithCopyWarning: \n",
      "A value is trying to be set on a copy of a slice from a DataFrame.\n",
      "Try using .loc[row_indexer,col_indexer] = value instead\n",
      "\n",
      "See the caveats in the documentation: https://pandas.pydata.org/pandas-docs/stable/user_guide/indexing.html#returning-a-view-versus-a-copy\n",
      "  df_nj['delta'] = df_nj['total_emp_nov'] - df_nj['total_emp_feb']\n"
     ]
    }
   ],
   "source": [
    "# New Jersey\n",
    "df_nj = df[df.state == 0]\n",
    "df_nj['delta'] = df_nj['total_emp_nov'] - df_nj['total_emp_feb']"
   ]
  },
  {
   "cell_type": "code",
   "execution_count": 13,
   "id": "e815ee6c-972c-4efe-9bc6-470a9eb44789",
   "metadata": {},
   "outputs": [
    {
     "name": "stdout",
     "output_type": "stream",
     "text": [
      "the change of employment from feb to nov in New Jersey is -2.28\n"
     ]
    }
   ],
   "source": [
    "print(f'the change of employment from feb to nov in New Jersey is {df_nj.delta.mean():.2f}')"
   ]
  },
  {
   "cell_type": "markdown",
   "id": "31150993-0d29-4c14-9e6a-fd051fe5f06e",
   "metadata": {},
   "source": [
    "# Pennsylvania"
   ]
  },
  {
   "cell_type": "code",
   "execution_count": 8,
   "id": "63852c17-2e58-4f43-a2ea-deb17665ac45",
   "metadata": {},
   "outputs": [
    {
     "name": "stderr",
     "output_type": "stream",
     "text": [
      "/var/folders/8c/3nykxypj32j_z4l0d64bln480000gp/T/ipykernel_99260/3652486956.py:2: SettingWithCopyWarning: \n",
      "A value is trying to be set on a copy of a slice from a DataFrame.\n",
      "Try using .loc[row_indexer,col_indexer] = value instead\n",
      "\n",
      "See the caveats in the documentation: https://pandas.pydata.org/pandas-docs/stable/user_guide/indexing.html#returning-a-view-versus-a-copy\n",
      "  df_pa['delta'] = df_pa['total_emp_nov'] - df_pa['total_emp_feb']\n"
     ]
    }
   ],
   "source": [
    "df_pa = df[df.state == 1]\n",
    "df_pa['delta'] = df_pa['total_emp_nov'] - df_pa['total_emp_feb']"
   ]
  },
  {
   "cell_type": "code",
   "execution_count": 14,
   "id": "3490f6bd-1696-43b9-8935-ee5a5ac5c5a2",
   "metadata": {},
   "outputs": [
    {
     "name": "stdout",
     "output_type": "stream",
     "text": [
      "the change of employment from feb to nov in Pennsylvania is 0.47\n"
     ]
    }
   ],
   "source": [
    "print(f'the change of employment from feb to nov in Pennsylvania is {df_pa.delta.mean():.2f}')"
   ]
  },
  {
   "cell_type": "markdown",
   "id": "10cd493f-5789-4749-8602-a93507af1a10",
   "metadata": {},
   "source": [
    "The difference between New Jersey and Pennsylvania is 0.47 - (-2.28) = 2.75. However, how can we know that this is statistically significant? We use the linear regression. "
   ]
  },
  {
   "cell_type": "markdown",
   "id": "eb368214-fd57-4076-a01d-d0877c3698ab",
   "metadata": {},
   "source": [
    "𝑦 = 𝛽0 + 𝛽1∗state + 𝛽2∗month + 𝛽3∗(interaction) + 𝜀\n",
    " \n",
    "state is 0 for the control group (New Jersey) and 1 for the treatment group (Pennsylvania)\n",
    "month is 0 for before (Feb) and 1 for after (Nov)\n",
    "we can insert the values of state and month using the table below and see that coefficient (𝛽3) of the interaction of state and month is the value for DID"
   ]
  },
  {
   "cell_type": "code",
   "execution_count": 52,
   "id": "4a9b81ac-af9a-41bd-896e-d701fb33e39d",
   "metadata": {},
   "outputs": [],
   "source": [
    "df_train = pd.melt(df, id_vars=['state'], value_vars=['total_emp_feb', 'total_emp_nov'], var_name='month', value_name='total_emp')"
   ]
  },
  {
   "cell_type": "code",
   "execution_count": 53,
   "id": "09431baa-949d-4334-ba0c-814fe9e5c299",
   "metadata": {},
   "outputs": [
    {
     "data": {
      "text/html": [
       "<div>\n",
       "<style scoped>\n",
       "    .dataframe tbody tr th:only-of-type {\n",
       "        vertical-align: middle;\n",
       "    }\n",
       "\n",
       "    .dataframe tbody tr th {\n",
       "        vertical-align: top;\n",
       "    }\n",
       "\n",
       "    .dataframe thead th {\n",
       "        text-align: right;\n",
       "    }\n",
       "</style>\n",
       "<table border=\"1\" class=\"dataframe\">\n",
       "  <thead>\n",
       "    <tr style=\"text-align: right;\">\n",
       "      <th></th>\n",
       "      <th>state</th>\n",
       "      <th>month</th>\n",
       "      <th>total_emp</th>\n",
       "    </tr>\n",
       "  </thead>\n",
       "  <tbody>\n",
       "    <tr>\n",
       "      <th>0</th>\n",
       "      <td>0</td>\n",
       "      <td>total_emp_feb</td>\n",
       "      <td>40.50</td>\n",
       "    </tr>\n",
       "    <tr>\n",
       "      <th>1</th>\n",
       "      <td>0</td>\n",
       "      <td>total_emp_feb</td>\n",
       "      <td>13.75</td>\n",
       "    </tr>\n",
       "    <tr>\n",
       "      <th>2</th>\n",
       "      <td>0</td>\n",
       "      <td>total_emp_feb</td>\n",
       "      <td>8.50</td>\n",
       "    </tr>\n",
       "    <tr>\n",
       "      <th>3</th>\n",
       "      <td>0</td>\n",
       "      <td>total_emp_feb</td>\n",
       "      <td>34.00</td>\n",
       "    </tr>\n",
       "    <tr>\n",
       "      <th>4</th>\n",
       "      <td>0</td>\n",
       "      <td>total_emp_feb</td>\n",
       "      <td>24.00</td>\n",
       "    </tr>\n",
       "    <tr>\n",
       "      <th>...</th>\n",
       "      <td>...</td>\n",
       "      <td>...</td>\n",
       "      <td>...</td>\n",
       "    </tr>\n",
       "    <tr>\n",
       "      <th>763</th>\n",
       "      <td>1</td>\n",
       "      <td>total_emp_nov</td>\n",
       "      <td>23.75</td>\n",
       "    </tr>\n",
       "    <tr>\n",
       "      <th>764</th>\n",
       "      <td>1</td>\n",
       "      <td>total_emp_nov</td>\n",
       "      <td>17.50</td>\n",
       "    </tr>\n",
       "    <tr>\n",
       "      <th>765</th>\n",
       "      <td>1</td>\n",
       "      <td>total_emp_nov</td>\n",
       "      <td>20.50</td>\n",
       "    </tr>\n",
       "    <tr>\n",
       "      <th>766</th>\n",
       "      <td>1</td>\n",
       "      <td>total_emp_nov</td>\n",
       "      <td>20.50</td>\n",
       "    </tr>\n",
       "    <tr>\n",
       "      <th>767</th>\n",
       "      <td>1</td>\n",
       "      <td>total_emp_nov</td>\n",
       "      <td>25.00</td>\n",
       "    </tr>\n",
       "  </tbody>\n",
       "</table>\n",
       "<p>768 rows × 3 columns</p>\n",
       "</div>"
      ],
      "text/plain": [
       "     state          month  total_emp\n",
       "0        0  total_emp_feb      40.50\n",
       "1        0  total_emp_feb      13.75\n",
       "2        0  total_emp_feb       8.50\n",
       "3        0  total_emp_feb      34.00\n",
       "4        0  total_emp_feb      24.00\n",
       "..     ...            ...        ...\n",
       "763      1  total_emp_nov      23.75\n",
       "764      1  total_emp_nov      17.50\n",
       "765      1  total_emp_nov      20.50\n",
       "766      1  total_emp_nov      20.50\n",
       "767      1  total_emp_nov      25.00\n",
       "\n",
       "[768 rows x 3 columns]"
      ]
     },
     "execution_count": 53,
     "metadata": {},
     "output_type": "execute_result"
    }
   ],
   "source": [
    "df_train"
   ]
  },
  {
   "cell_type": "code",
   "execution_count": 54,
   "id": "670ba874-e357-485a-b615-16508b83b27a",
   "metadata": {},
   "outputs": [],
   "source": [
    "df_train.loc[df_train.month == 'total_emp_feb', 'month'] = 0\n",
    "df_train.loc[df_train.month == 'total_emp_nov', 'month'] = 1\n",
    "df_train['interaction'] = df_train['state'] * df_train['month']"
   ]
  },
  {
   "cell_type": "code",
   "execution_count": 56,
   "id": "8ac18f94-2e4f-4f69-9f5e-b4b9e83fbd9f",
   "metadata": {},
   "outputs": [
    {
     "data": {
      "text/plain": [
       "1    618\n",
       "0    150\n",
       "Name: state, dtype: int64"
      ]
     },
     "execution_count": 56,
     "metadata": {},
     "output_type": "execute_result"
    }
   ],
   "source": [
    "df_train.state.value_counts()"
   ]
  },
  {
   "cell_type": "code",
   "execution_count": 59,
   "id": "73721799-6cf0-4d0d-b68a-75d8fdbd1581",
   "metadata": {},
   "outputs": [
    {
     "data": {
      "text/plain": [
       "0    384\n",
       "1    384\n",
       "Name: month, dtype: int64"
      ]
     },
     "execution_count": 59,
     "metadata": {},
     "output_type": "execute_result"
    }
   ],
   "source": [
    "df_train.month.value_counts()"
   ]
  },
  {
   "cell_type": "code",
   "execution_count": 47,
   "id": "df0464c1-332d-4e3c-81e8-ce961d8a9461",
   "metadata": {},
   "outputs": [
    {
     "data": {
      "text/plain": [
       "0    384\n",
       "1    384\n",
       "Name: month, dtype: int64"
      ]
     },
     "execution_count": 47,
     "metadata": {},
     "output_type": "execute_result"
    }
   ],
   "source": [
    "df_train.month.value_counts()"
   ]
  },
  {
   "cell_type": "code",
   "execution_count": 66,
   "id": "098a67b5-68ab-4d4b-b966-b380e6e119dd",
   "metadata": {},
   "outputs": [
    {
     "data": {
      "text/plain": [
       "0    459\n",
       "1    309\n",
       "Name: interaction, dtype: int64"
      ]
     },
     "execution_count": 66,
     "metadata": {},
     "output_type": "execute_result"
    }
   ],
   "source": [
    "df_train.interaction.value_counts()"
   ]
  },
  {
   "cell_type": "code",
   "execution_count": 82,
   "id": "909f3f9c-d2db-44c2-a5dc-e1f85d36db36",
   "metadata": {},
   "outputs": [
    {
     "name": "stdout",
     "output_type": "stream",
     "text": [
      "                            OLS Regression Results                            \n",
      "==============================================================================\n",
      "Dep. Variable:              total_emp   R-squared:                       0.008\n",
      "Model:                            OLS   Adj. R-squared:                  0.004\n",
      "Method:                 Least Squares   F-statistic:                     1.947\n",
      "Date:                Thu, 25 Apr 2024   Prob (F-statistic):              0.121\n",
      "Time:                        21:22:02   Log-Likelihood:                -2817.6\n",
      "No. Observations:                 768   AIC:                             5643.\n",
      "Df Residuals:                     764   BIC:                             5662.\n",
      "Df Model:                           3                                         \n",
      "Covariance Type:            nonrobust                                         \n",
      "====================================================================================\n",
      "                       coef    std err          t      P>|t|      [0.025      0.975]\n",
      "------------------------------------------------------------------------------------\n",
      "Intercept           23.3800      1.098     21.288      0.000      21.224      25.536\n",
      "month[T.1]          -2.2833      1.553     -1.470      0.142      -5.332       0.766\n",
      "interaction[T.1]     2.7500      1.731      1.588      0.113      -0.649       6.149\n",
      "state               -2.9494      1.224     -2.409      0.016      -5.353      -0.546\n",
      "==============================================================================\n",
      "Omnibus:                      212.243   Durbin-Watson:                   1.835\n",
      "Prob(Omnibus):                  0.000   Jarque-Bera (JB):              761.734\n",
      "Skew:                           1.278   Prob(JB):                    3.90e-166\n",
      "Kurtosis:                       7.155   Cond. No.                         11.3\n",
      "==============================================================================\n",
      "\n",
      "Notes:\n",
      "[1] Standard Errors assume that the covariance matrix of the errors is correctly specified.\n"
     ]
    }
   ],
   "source": [
    "import statsmodels.formula.api as sm\n",
    "model = sm.ols('total_emp ~ state + month + interaction', data=df_train).fit()\n",
    "\n",
    "print(model.summary())"
   ]
  },
  {
   "cell_type": "markdown",
   "id": "fd805298-5d92-49cd-b7f5-7a1212c8c5db",
   "metadata": {},
   "source": [
    "The p-value for interaction is not statistically significant, which means that the average total employees per restaurant increased after the minimal salary raise by 2.75 FTE (full-time equivalent) but the result may be just due to random factors."
   ]
  }
 ],
 "metadata": {
  "kernelspec": {
   "display_name": "Python 3 (ipykernel)",
   "language": "python",
   "name": "python3"
  },
  "language_info": {
   "codemirror_mode": {
    "name": "ipython",
    "version": 3
   },
   "file_extension": ".py",
   "mimetype": "text/x-python",
   "name": "python",
   "nbconvert_exporter": "python",
   "pygments_lexer": "ipython3",
   "version": "3.11.5"
  }
 },
 "nbformat": 4,
 "nbformat_minor": 5
}
