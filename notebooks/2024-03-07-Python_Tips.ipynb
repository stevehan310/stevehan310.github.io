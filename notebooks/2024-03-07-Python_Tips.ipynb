{
 "cells": [
  {
   "cell_type": "markdown",
   "id": "5d85a790-19a5-445f-914f-6322adb8c373",
   "metadata": {},
   "source": [
    "<h1>Python Tips</h1>"
   ]
  },
  {
   "cell_type": "markdown",
   "id": "25e259c2-6815-408b-97a3-c0bd1ecf6e66",
   "metadata": {},
   "source": [
    "<h2>1. Python string type</h2>"
   ]
  },
  {
   "cell_type": "markdown",
   "id": "33a3309a-3f5a-4860-a196-9cec49e8be78",
   "metadata": {},
   "source": [
    "<h3>1.a Python Escape Characters</h3>"
   ]
  },
  {
   "cell_type": "code",
   "execution_count": 3,
   "id": "377c64e2-c8e7-4c62-8542-9abc3e3d3838",
   "metadata": {},
   "outputs": [],
   "source": [
    "# \\n : to break lines within a string\n",
    "# \\t : to add tab spacing between strings\n",
    "# \\\\ : to represent the backslash character () as it is\n",
    "# \\' : to represent the single quote character (') as it is\n",
    "# \\\" : to represent the double quote character (\") as it is\n",
    "# \\r : Carriage return (line break character, moves the cursor to the beginning of the current line)\n",
    "# \\f : Form feed (line break character, moves the cursor to the next line)\n",
    "# \\a : Bell sound (when printed, emits a 'beep' sound from the PC speaker)\n",
    "# \\b : Backspace\n",
    "# \\000 : Null character"
   ]
  },
  {
   "cell_type": "markdown",
   "id": "da25efec-3b10-40ab-95b3-233f62dbe934",
   "metadata": {},
   "source": [
    "<h3>1.b F-string formatting in python</h3>"
   ]
  },
  {
   "cell_type": "code",
   "execution_count": 4,
   "id": "a0182ee3-a311-48df-84e4-dcd7e69ad404",
   "metadata": {},
   "outputs": [],
   "source": [
    "# f-string was introduced in Python 3.6, so it is invalid in Python versions lower than 3.6."
   ]
  },
  {
   "cell_type": "code",
   "execution_count": 5,
   "id": "4f1e0acd-e9e3-4926-8bb5-3e0df4c55c55",
   "metadata": {},
   "outputs": [
    {
     "data": {
      "text/plain": [
       "'3.4213'"
      ]
     },
     "execution_count": 5,
     "metadata": {},
     "output_type": "execute_result"
    }
   ],
   "source": [
    "y = 3.42134234\n",
    "f'{y:0.4f}' # up to 4 decimal places"
   ]
  },
  {
   "cell_type": "code",
   "execution_count": 6,
   "id": "28b47df0-b3e6-468a-ac51-1363fb886fe7",
   "metadata": {},
   "outputs": [
    {
     "data": {
      "text/plain": [
       "'    3.4213'"
      ]
     },
     "execution_count": 6,
     "metadata": {},
     "output_type": "execute_result"
    }
   ],
   "source": [
    "f'{y:10.4f}' # up to 4 decimal places and set the total number of digits to 10."
   ]
  },
  {
   "cell_type": "markdown",
   "id": "4acfb7d9-cbcd-4e4a-a808-dac2908a6211",
   "metadata": {},
   "source": [
    "<h2>2. Dictionary type</h2>"
   ]
  },
  {
   "cell_type": "code",
   "execution_count": 7,
   "id": "f940ef50-d6c0-4368-91dc-e78ee66e0680",
   "metadata": {},
   "outputs": [
    {
     "name": "stdout",
     "output_type": "stream",
     "text": [
      "None\n"
     ]
    }
   ],
   "source": [
    "a = {'name':'pey', 'phone':'010-9999-1234', 'birth': '1118'}\n",
    "print(a.get('nokey')) # Return 'None'"
   ]
  },
  {
   "cell_type": "code",
   "execution_count": 8,
   "id": "87f5598c-13a9-4091-a731-666be08dcb39",
   "metadata": {},
   "outputs": [
    {
     "ename": "SyntaxError",
     "evalue": "unterminated string literal (detected at line 1) (2673726288.py, line 1)",
     "output_type": "error",
     "traceback": [
      "\u001b[0;36m  Cell \u001b[0;32mIn[8], line 1\u001b[0;36m\u001b[0m\n\u001b[0;31m    print(a['nokey’]) # Return error\u001b[0m\n\u001b[0m            ^\u001b[0m\n\u001b[0;31mSyntaxError\u001b[0m\u001b[0;31m:\u001b[0m unterminated string literal (detected at line 1)\n"
     ]
    }
   ],
   "source": [
    "print(a['nokey’]) # Return error"
   ]
  },
  {
   "cell_type": "code",
   "execution_count": 9,
   "id": "60e8696c-7447-451f-88a9-fb9b29bd7bb2",
   "metadata": {},
   "outputs": [
    {
     "data": {
      "text/plain": [
       "'foo'"
      ]
     },
     "execution_count": 9,
     "metadata": {},
     "output_type": "execute_result"
    }
   ],
   "source": [
    "a.get('nokey', 'foo') # When the key is in the dictionary, return the default value 'foo'"
   ]
  },
  {
   "cell_type": "markdown",
   "id": "e7de6a56-6437-473e-8ead-775731a507f6",
   "metadata": {},
   "source": [
    "<h2>3. 'for' and 'continue' </h2>"
   ]
  },
  {
   "cell_type": "code",
   "execution_count": 10,
   "id": "db5d5868-8e81-442d-91be-0f46dd08b676",
   "metadata": {},
   "outputs": [
    {
     "name": "stdout",
     "output_type": "stream",
     "text": [
      "student #1 passed the exam. \n",
      "student #3 passed the exam. \n",
      "student #5 passed the exam. \n"
     ]
    }
   ],
   "source": [
    "marks = [90, 25, 67, 45, 80]\n",
    "number = 0 \n",
    "for mark in marks: \n",
    "    number = number +1 \n",
    "    if mark < 60:\n",
    "        continue \n",
    "    print(\"student #%d passed the exam. \" % number)"
   ]
  },
  {
   "cell_type": "markdown",
   "id": "50f6e3cf-06ab-408d-af03-dfec0a26e32b",
   "metadata": {},
   "source": [
    "<h2>4. list comprehension</h2>"
   ]
  },
  {
   "cell_type": "code",
   "execution_count": 11,
   "id": "ebfbf57d-b351-40e0-8462-aac0a66f7df3",
   "metadata": {},
   "outputs": [
    {
     "name": "stdout",
     "output_type": "stream",
     "text": [
      "[3, 6, 9, 12]\n"
     ]
    }
   ],
   "source": [
    "a = [1,2,3,4]\n",
    "result = []\n",
    "for num in a:\n",
    "    result.append(num*3)\n",
    "\n",
    "print(result)"
   ]
  },
  {
   "cell_type": "code",
   "execution_count": 12,
   "id": "92903e03-da05-48a0-8982-924255d35668",
   "metadata": {},
   "outputs": [
    {
     "name": "stdout",
     "output_type": "stream",
     "text": [
      "[3, 6, 9, 12]\n"
     ]
    }
   ],
   "source": [
    "result = [num * 3 for num in a]\n",
    "print(result)"
   ]
  },
  {
   "cell_type": "code",
   "execution_count": 13,
   "id": "e414daa9-a580-42ab-89de-29c76b8aceb9",
   "metadata": {},
   "outputs": [
    {
     "name": "stdout",
     "output_type": "stream",
     "text": [
      "[6, 12]\n"
     ]
    }
   ],
   "source": [
    "result = [num * 3 for num in a if num % 2 == 0] # If you want to multiply 3 to even numbers only\n",
    "print(result)"
   ]
  },
  {
   "cell_type": "markdown",
   "id": "5c8b2a03-c023-4b52-89ef-b8372a055879",
   "metadata": {},
   "source": [
    "<h2>5. Functions</h2>"
   ]
  },
  {
   "cell_type": "markdown",
   "id": "a14dffc7-1692-4085-acb8-8e97bc73c476",
   "metadata": {},
   "source": [
    "<h3>5.1 *args</h3>"
   ]
  },
  {
   "cell_type": "code",
   "execution_count": 14,
   "id": "202560b9-a22b-47c1-8d0b-83d4962104ec",
   "metadata": {},
   "outputs": [
    {
     "name": "stdout",
     "output_type": "stream",
     "text": [
      "6\n",
      "15\n"
     ]
    }
   ],
   "source": [
    "def add_many(*args): # '*' converts arguments into tuple format\n",
    "    result = 0 \n",
    "    for i in args: \n",
    "        result = result + i   # add all numbers from *args\n",
    "    return result\n",
    "\n",
    "result = add_many(1, 2, 3)\n",
    "print(result)\n",
    "result = add_many(1, 2, 3, 4, 5)\n",
    "print(result)"
   ]
  },
  {
   "cell_type": "markdown",
   "id": "1be03610-1eab-4ad4-abb3-067f8542c544",
   "metadata": {},
   "source": [
    "<h3>5.b Keyword Arguments **kwargs</h3>"
   ]
  },
  {
   "cell_type": "code",
   "execution_count": 15,
   "id": "636b3ee6-7883-4f15-b92a-29f20a99d759",
   "metadata": {},
   "outputs": [],
   "source": [
    "def print_kwargs(**kwargs): # '**' converts arguments into dictionary format\n",
    "    print(kwargs) "
   ]
  },
  {
   "cell_type": "code",
   "execution_count": 16,
   "id": "aab4e776-d573-4d2e-8dfa-4e2d12840f66",
   "metadata": {},
   "outputs": [
    {
     "name": "stdout",
     "output_type": "stream",
     "text": [
      "{'a': 1}\n"
     ]
    }
   ],
   "source": [
    "print_kwargs(a=1)"
   ]
  },
  {
   "cell_type": "code",
   "execution_count": 17,
   "id": "cf81942f-128e-4fa0-976d-5942c6bc7f3f",
   "metadata": {},
   "outputs": [
    {
     "name": "stdout",
     "output_type": "stream",
     "text": [
      "{'name': 'foo', 'age': 3}\n"
     ]
    }
   ],
   "source": [
    "print_kwargs(name='foo', age=3)"
   ]
  },
  {
   "cell_type": "markdown",
   "id": "aabba2ea-4da5-4cb3-875a-b586d649db94",
   "metadata": {},
   "source": [
    "<h2>6. Print</h2>"
   ]
  },
  {
   "cell_type": "code",
   "execution_count": 18,
   "id": "da25d4b0-00e5-4ce7-9d60-4dae90bb5796",
   "metadata": {},
   "outputs": [
    {
     "name": "stdout",
     "output_type": "stream",
     "text": [
      "0\n",
      "1\n",
      "2\n",
      "3\n",
      "4\n"
     ]
    }
   ],
   "source": [
    "for i in range(5):\n",
    "    print(i)"
   ]
  },
  {
   "cell_type": "code",
   "execution_count": 19,
   "id": "7fe82107-e08a-4f98-a413-ba9f2e2e212e",
   "metadata": {},
   "outputs": [
    {
     "name": "stdout",
     "output_type": "stream",
     "text": [
      "0 1 2 3 4 "
     ]
    }
   ],
   "source": [
    "for i in range(5):\n",
    "    print(i, end=' ') # Default 'end' is '\\n'"
   ]
  },
  {
   "cell_type": "markdown",
   "id": "887fd001-7dca-41e2-9963-ff60c6809bbd",
   "metadata": {},
   "source": [
    "<h2> 7. Python Decorator</h2>"
   ]
  },
  {
   "cell_type": "code",
   "execution_count": 20,
   "id": "c3a055cb-0713-46d4-9ea6-74dabb3cb7c1",
   "metadata": {},
   "outputs": [
    {
     "name": "stdout",
     "output_type": "stream",
     "text": [
      "Function is being executed.\n",
      "Function execution time: 0.000403 seconds\n"
     ]
    }
   ],
   "source": [
    "import time\n",
    "\n",
    "def elapsed(original_func):   # Receives the original function as an argument.\n",
    "    def wrapper():\n",
    "        start = time.time()\n",
    "        result = original_func()    # Executes the original function\n",
    "        end = time.time()\n",
    "        print(\"Function execution time: %f seconds\" % (end - start))  # Prints the execution time of the original function.\n",
    "        return result  # Returns the result of the original function.\n",
    "    return wrapper\n",
    "\n",
    "def myfunc():\n",
    "    print(\"Function is being executed.\")\n",
    "\n",
    "decorated_myfunc = elapsed(myfunc)\n",
    "decorated_myfunc()"
   ]
  },
  {
   "cell_type": "code",
   "execution_count": null,
   "id": "307d77a5-37e8-4813-a021-5ff0f4d6d759",
   "metadata": {},
   "outputs": [],
   "source": []
  },
  {
   "cell_type": "code",
   "execution_count": null,
   "id": "27a733fc-5e34-473c-b583-b8cee8b859c0",
   "metadata": {},
   "outputs": [],
   "source": []
  }
 ],
 "metadata": {
  "kernelspec": {
   "display_name": "Python 3 (ipykernel)",
   "language": "python",
   "name": "python3"
  },
  "language_info": {
   "codemirror_mode": {
    "name": "ipython",
    "version": 3
   },
   "file_extension": ".py",
   "mimetype": "text/x-python",
   "name": "python",
   "nbconvert_exporter": "python",
   "pygments_lexer": "ipython3",
   "version": "3.11.5"
  }
 },
 "nbformat": 4,
 "nbformat_minor": 5
}
