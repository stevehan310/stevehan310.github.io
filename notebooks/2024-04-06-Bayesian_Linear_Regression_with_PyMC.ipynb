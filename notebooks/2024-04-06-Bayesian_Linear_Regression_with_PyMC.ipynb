{
 "cells": [
  {
   "cell_type": "markdown",
   "id": "7e8e0f3b-4b4e-4a77-9cef-72c777174ecf",
   "metadata": {},
   "source": [
    "# Bayesian Linear Regression in Python"
   ]
  },
  {
   "cell_type": "code",
   "execution_count": 3,
   "id": "84b9d5f1-1375-4f21-9625-43d4db402a72",
   "metadata": {},
   "outputs": [],
   "source": [
    "import numpy as np\n",
    "np.bool = np.bool_\n",
    "from numpy.random import uniform, normal, poisson, binomial\n",
    "from scipy import stats\n",
    "import statsmodels.api as sm\n",
    "\n",
    "import matplotlib.pyplot as plt\n",
    "%matplotlib inline\n",
    "import seaborn as sns\n",
    "sns.set()\n",
    "\n",
    "# Generate example data\n",
    "np.random.seed(42)  # Set seed for reproducibility"
   ]
  },
  {
   "cell_type": "code",
   "execution_count": null,
   "id": "c41e59af-8aeb-4427-b12a-3d461a06cd03",
   "metadata": {},
   "outputs": [],
   "source": []
  },
  {
   "cell_type": "code",
   "execution_count": null,
   "id": "1107b3b3-dd47-4d7f-9ddd-e21042520392",
   "metadata": {},
   "outputs": [],
   "source": [
    "normal([10,20], 1)"
   ]
  },
  {
   "cell_type": "code",
   "execution_count": null,
   "id": "aadaf033-b8ee-4122-9ef5-6ed2425f934d",
   "metadata": {},
   "outputs": [],
   "source": [
    "# generate simulation data\n",
    "n_sample = 100\n",
    "a = 0.5\n",
    "b = 10\n",
    "sd = 5\n",
    "\n",
    "x = uniform(0, 100, size=n_sample)\n",
    "mu = a * x + b # linear predictor is a * x + b, link function is y=x\n",
    "y = normal(mu, sd) # Probability distribution is normal distribution"
   ]
  },
  {
   "cell_type": "code",
   "execution_count": null,
   "id": "f9936af5-ace4-43c0-a61f-6cf78742e730",
   "metadata": {},
   "outputs": [],
   "source": [
    "x"
   ]
  },
  {
   "cell_type": "code",
   "execution_count": null,
   "id": "83128ac2-af20-4004-b458-1b0eda0d3704",
   "metadata": {},
   "outputs": [],
   "source": [
    "mu"
   ]
  },
  {
   "cell_type": "code",
   "execution_count": null,
   "id": "d1dd0a6b-53e6-4176-926e-30eeb5909e96",
   "metadata": {},
   "outputs": [],
   "source": [
    "y"
   ]
  },
  {
   "cell_type": "code",
   "execution_count": null,
   "id": "858947ea-e6db-4cbb-b6e9-5a7a1c1b9f6b",
   "metadata": {},
   "outputs": [],
   "source": [
    "plt.scatter(x, y, s=10, alpha=0.9, label='data')\n",
    "plt.ylim(0,80)\n",
    "plt.legend()"
   ]
  },
  {
   "cell_type": "code",
   "execution_count": null,
   "id": "1c7c2cdd-f753-4623-8cf7-f128ed4f88d6",
   "metadata": {},
   "outputs": [],
   "source": []
  },
  {
   "cell_type": "code",
   "execution_count": null,
   "id": "758be2ed-0c6e-4600-b10b-61c8c315e22b",
   "metadata": {},
   "outputs": [],
   "source": []
  },
  {
   "cell_type": "code",
   "execution_count": null,
   "id": "77a50577-e782-46ed-b794-4c406792b242",
   "metadata": {},
   "outputs": [],
   "source": [
    "np.random.rand(10, 1)"
   ]
  },
  {
   "cell_type": "code",
   "execution_count": null,
   "id": "f4151998-b2f2-40b0-8498-3ba928d4ea71",
   "metadata": {},
   "outputs": [],
   "source": []
  },
  {
   "cell_type": "code",
   "execution_count": null,
   "id": "2a34cca8-fe59-4fc9-9e0e-030351781093",
   "metadata": {},
   "outputs": [],
   "source": [
    "import numpy as np\n",
    "import matplotlib.pyplot as plt\n",
    "\n",
    "# 임의의 데이터 생성\n",
    "np.random.seed(0)\n",
    "#X = 2 * np.random.rand(100, 1)  # 주택의 면적\n",
    "X = uniform(1000, 3000, size=n_sample)\n",
    "#Y = 4 + 3 * X + np.random.randn(100, 1)  # 주택의 가격\n",
    "Y = 2 * X + uniform(500, 1000, size=n_sample)  # 주택의 가격\n",
    "\n",
    "# 데이터 시각화\n",
    "plt.scatter(X, Y)\n",
    "plt.xlabel('House Area')\n",
    "plt.ylabel('House Price')\n",
    "plt.title('House Price vs. House Area')\n",
    "plt.show()"
   ]
  },
  {
   "cell_type": "code",
   "execution_count": null,
   "id": "2aac7fff-9cea-42b4-97a2-bbe0609a0937",
   "metadata": {},
   "outputs": [],
   "source": [
    "import arviz as az"
   ]
  },
  {
   "cell_type": "code",
   "execution_count": null,
   "id": "8d4ce193-eccc-4897-85b0-d9ae41f59f46",
   "metadata": {},
   "outputs": [],
   "source": [
    "%config InlineBackend.figure_format = 'retina'\n",
    "# Initialize random number generator\n",
    "RANDOM_SEED = 42\n",
    "rng = np.random.default_rng(RANDOM_SEED)\n",
    "az.style.use(\"arviz-darkgrid\")"
   ]
  },
  {
   "cell_type": "code",
   "execution_count": null,
   "id": "4c3b176c-ef6d-4032-97e5-d5eb522aa4dc",
   "metadata": {},
   "outputs": [],
   "source": [
    "# True parameter values\n",
    "alpha, sigma = 1, 1\n",
    "beta = [1, 2.5]\n",
    "\n",
    "# Size of dataset\n",
    "size = 100\n",
    "\n",
    "# Predictor variable\n",
    "X1 = np.random.randn(size)\n",
    "X2 = np.random.randn(size) * 0.2\n",
    "\n",
    "# Simulate outcome variable\n",
    "Y = alpha + beta[0] * X1 + beta[1] * X2 + rng.normal(size=size) * sigma"
   ]
  },
  {
   "cell_type": "code",
   "execution_count": null,
   "id": "49c202d0-52de-4de8-afb5-ca3e91a1cc04",
   "metadata": {},
   "outputs": [],
   "source": [
    "fig, axes = plt.subplots(1, 2, sharex=True, figsize=(10, 4))\n",
    "axes[0].scatter(X1, Y, alpha=0.6)\n",
    "axes[1].scatter(X2, Y, alpha=0.6)\n",
    "axes[0].set_ylabel(\"Y\")\n",
    "axes[0].set_xlabel(\"X1\")\n",
    "axes[1].set_xlabel(\"X2\");"
   ]
  },
  {
   "cell_type": "code",
   "execution_count": null,
   "id": "3e2c4d85-4f31-4fd1-8f46-53c7ad704e50",
   "metadata": {},
   "outputs": [],
   "source": [
    "import pymc as pm\n",
    "\n",
    "print(f\"Running on PyMC v{pm.__version__}\")"
   ]
  },
  {
   "cell_type": "code",
   "execution_count": null,
   "id": "0bd7b74c-9efd-424e-9547-13acf7487822",
   "metadata": {},
   "outputs": [],
   "source": [
    "basic_model = pm.Model()\n",
    "\n",
    "with basic_model:\n",
    "    # Priors for unknown model parameters\n",
    "    alpha = pm.Normal(\"alpha\", mu=0, sigma=10)\n",
    "    beta = pm.Normal(\"beta\", mu=0, sigma=10, shape=2)\n",
    "    sigma = pm.HalfNormal(\"sigma\", sigma=1)\n",
    "\n",
    "    # Expected value of outcome\n",
    "    mu = alpha + beta[0] * X1 + beta[1] * X2\n",
    "\n",
    "    # Likelihood (sampling distribution) of observations\n",
    "    Y_obs = pm.Normal(\"Y_obs\", mu=mu, sigma=sigma, observed=Y)"
   ]
  },
  {
   "cell_type": "code",
   "execution_count": null,
   "id": "efdad24b-81a6-4d62-99c4-127aa8cb33f7",
   "metadata": {},
   "outputs": [],
   "source": []
  },
  {
   "cell_type": "code",
   "execution_count": null,
   "id": "a2691b88-49f5-4abd-9247-dcc735b2c635",
   "metadata": {},
   "outputs": [],
   "source": []
  },
  {
   "cell_type": "code",
   "execution_count": null,
   "id": "541e9c13-c3bf-44dc-bc59-8dff3b0ecbd9",
   "metadata": {},
   "outputs": [],
   "source": []
  },
  {
   "cell_type": "code",
   "execution_count": null,
   "id": "5bedbd45-0d31-488b-9b51-4ace5405bd66",
   "metadata": {},
   "outputs": [],
   "source": []
  },
  {
   "cell_type": "code",
   "execution_count": null,
   "id": "6a5ab7bb-2dde-4f36-9b76-400509e86b12",
   "metadata": {},
   "outputs": [],
   "source": []
  },
  {
   "cell_type": "code",
   "execution_count": null,
   "id": "d53a8b6b-85c4-4b54-b014-bb096d9c3e2c",
   "metadata": {},
   "outputs": [],
   "source": [
    "import arviz as az\n",
    "import matplotlib.pyplot as plt\n",
    "import numpy as np\n",
    "import pandas as pd\n",
    "import pymc as pm\n",
    "import xarray as xr\n",
    "\n",
    "from pymc import HalfCauchy, Model, Normal, sample\n",
    "\n",
    "print(f\"Running on PyMC v{pm.__version__}\")"
   ]
  },
  {
   "cell_type": "code",
   "execution_count": null,
   "id": "e771a028-3226-4b18-bd0c-570d70c352e7",
   "metadata": {},
   "outputs": [],
   "source": [
    "RANDOM_SEED = 8927\n",
    "rng = np.random.default_rng(RANDOM_SEED)\n",
    "\n",
    "%config InlineBackend.figure_format = 'retina'\n",
    "az.style.use(\"arviz-darkgrid\")"
   ]
  },
  {
   "cell_type": "code",
   "execution_count": null,
   "id": "56ed673b-d6d8-47a2-99cc-60dd30893d45",
   "metadata": {},
   "outputs": [],
   "source": [
    "size = 200\n",
    "true_intercept = 1\n",
    "true_slope = 2\n",
    "\n",
    "x = np.linspace(0, 1, size)\n",
    "# y = a + b*x\n",
    "true_regression_line = true_intercept + true_slope * x\n",
    "# add noise\n",
    "y = true_regression_line + rng.normal(scale=0.5, size=size)\n",
    "\n",
    "data = pd.DataFrame(dict(x=x, y=y))"
   ]
  },
  {
   "cell_type": "code",
   "execution_count": null,
   "id": "27bed365-0dc3-4142-a836-123d20f0a0e3",
   "metadata": {},
   "outputs": [],
   "source": [
    "fig = plt.figure(figsize=(7, 7))\n",
    "ax = fig.add_subplot(111, xlabel=\"x\", ylabel=\"y\", title=\"Generated data and underlying model\")\n",
    "ax.plot(x, y, \"x\", label=\"sampled data\")\n",
    "ax.plot(x, true_regression_line, label=\"true regression line\", lw=2.0)\n",
    "plt.legend(loc=0);"
   ]
  },
  {
   "cell_type": "code",
   "execution_count": null,
   "id": "efaa0ec2-93a3-4882-9a06-c5384afe1be2",
   "metadata": {},
   "outputs": [],
   "source": [
    "with Model() as model:  # model specifications in PyMC are wrapped in a with-statement\n",
    "    # Define priors\n",
    "    sigma = HalfCauchy(\"sigma\", beta=10)\n",
    "    intercept = Normal(\"Intercept\", 0, sigma=20)\n",
    "    slope = Normal(\"slope\", 0, sigma=20)\n",
    "\n",
    "    # Define likelihood\n",
    "    likelihood = Normal(\"y\", mu=intercept + slope * x, sigma=sigma, observed=y)\n",
    "\n",
    "    # Inference!\n",
    "    # draw 3000 posterior samples using NUTS sampling\n",
    "    idata = sample(3000)"
   ]
  },
  {
   "cell_type": "code",
   "execution_count": null,
   "id": "3b94e879-89a9-4923-88f0-7bf5071d4f03",
   "metadata": {},
   "outputs": [],
   "source": [
    "az.plot_trace(idata, figsize=(10, 7));"
   ]
  },
  {
   "cell_type": "code",
   "execution_count": null,
   "id": "c035060e-9e0c-48ea-85c7-9932ca63ab9a",
   "metadata": {},
   "outputs": [],
   "source": []
  },
  {
   "cell_type": "code",
   "execution_count": null,
   "id": "c1333c1b-94c0-41fb-820a-a94bf265c721",
   "metadata": {},
   "outputs": [],
   "source": []
  },
  {
   "cell_type": "code",
   "execution_count": null,
   "id": "c76b012c-83ee-48c9-9d31-f8c36433f3cc",
   "metadata": {},
   "outputs": [],
   "source": [
    "_, ax = plt.subplots(figsize=(7, 7))\n",
    "az.plot_lm(idata=idata, y=\"y\", num_samples=100, axes=ax, y_model=\"y_model\")\n",
    "ax.set_title(\"Posterior predictive regression lines\")\n",
    "ax.set_xlabel(\"x\");"
   ]
  },
  {
   "cell_type": "code",
   "execution_count": null,
   "id": "2cd636f7-d906-4c2c-abb1-902be981249e",
   "metadata": {},
   "outputs": [],
   "source": []
  },
  {
   "cell_type": "code",
   "execution_count": null,
   "id": "07659c37-84f9-4ade-9203-fd706d0bd187",
   "metadata": {},
   "outputs": [],
   "source": [
    "import sys\n",
    "\n",
    "try:\n",
    "    import bambi as bmb\n",
    "except ImportError:\n",
    "    !{sys.executable} -m pip install -q --upgrade bambi\n",
    "    import bambi as bmb"
   ]
  },
  {
   "cell_type": "code",
   "execution_count": null,
   "id": "b605cf87-38fe-40d9-a127-0bab32a52e3f",
   "metadata": {},
   "outputs": [],
   "source": [
    "model = bmb.Model(\"y ~ x\", data)\n",
    "idata = model.fit(draws=3000)"
   ]
  },
  {
   "cell_type": "code",
   "execution_count": null,
   "id": "5482f430-7f27-45c6-af81-6ef2514c1baa",
   "metadata": {},
   "outputs": [],
   "source": [
    "idata.posterior[\"y_model\"] = idata.posterior[\"Intercept\"] + idata.posterior[\"x\"] * xr.DataArray(x)"
   ]
  },
  {
   "cell_type": "code",
   "execution_count": null,
   "id": "abddbb00-452a-4c47-b531-6c2e410729bc",
   "metadata": {},
   "outputs": [],
   "source": [
    "_, ax = plt.subplots(figsize=(7, 7))\n",
    "az.plot_lm(idata=idata, y=\"y\", num_samples=1000, axes=ax, y_model=\"y_model\")\n",
    "ax.set_title(\"Posterior predictive regression lines\")\n",
    "ax.set_xlabel(\"x\");"
   ]
  },
  {
   "cell_type": "code",
   "execution_count": null,
   "id": "9c721220-410e-4e62-b04d-cb7a7ca11ca0",
   "metadata": {},
   "outputs": [],
   "source": []
  },
  {
   "cell_type": "code",
   "execution_count": 29,
   "id": "c9c78783-f3d4-48a9-8537-a0242463757b",
   "metadata": {},
   "outputs": [],
   "source": [
    "# Import packages\n",
    "import warnings\n",
    "import pandas as pd\n",
    "import numpy as np\n",
    "\n",
    "# Suppress FutureWarning messages\n",
    "warnings.simplefilter(action='ignore', category=FutureWarning)\n",
    "\n",
    "import matplotlib.pyplot as plt\n",
    "from scipy.stats import norm\n",
    "from sklearn import datasets\n",
    "# Generate data\n",
    "x, y = datasets.make_regression(n_samples=100,\n",
    "                                n_features=1,\n",
    "                                noise=10)"
   ]
  },
  {
   "cell_type": "code",
   "execution_count": 30,
   "id": "be384f75-ef39-43fd-aaa9-e015f4177389",
   "metadata": {},
   "outputs": [
    {
     "data": {
      "image/png": "[encoded data removed]",
      "text/plain": [
       "<Figure size 900x500 with 1 Axes>"
      ]
     },
     "metadata": {},
     "output_type": "display_data"
    }
   ],
   "source": [
    "# Plot data\n",
    "fig, ax = plt.subplots(figsize=(9,5))\n",
    "ax.scatter(x, y)\n",
    "ax.ticklabel_format(style='plain')\n",
    "plt.xlabel('x',fontsize=18)\n",
    "plt.ylabel('y',fontsize=18)\n",
    "plt.xticks(fontsize=18)\n",
    "plt.yticks(fontsize=18)\n",
    "plt.show()"
   ]
  },
  {
   "cell_type": "code",
   "execution_count": 31,
   "id": "9ab7485e-5461-4bbb-8d37-53d6ed48f7b4",
   "metadata": {},
   "outputs": [
    {
     "name": "stderr",
     "output_type": "stream",
     "text": [
      "/var/folders/8c/3nykxypj32j_z4l0d64bln480000gp/T/ipykernel_72377/494252651.py:11: DeprecationWarning: Conversion of an array with ndim > 0 to a scalar is deprecated, and will error in future. Ensure you extract a single element from your array before performing this operation. (Deprecated NumPy 1.25.)\n",
      "  x_vals = np.arange(min(x), max(x), 0.1)\n"
     ]
    },
    {
     "data": {
      "image/png": "[encoded data removed]",
      "text/plain": [
       "<Figure size 900x500 with 1 Axes>"
      ]
     },
     "metadata": {},
     "output_type": "display_data"
    }
   ],
   "source": [
    "# Packages\n",
    "import statsmodels.formula.api as smf\n",
    "# Create a dataframe\n",
    "data = pd.DataFrame(list(zip(x.flatten(), y)), columns =['x', 'y'])\n",
    "# Calculating the slope and intercept\n",
    "formula = 'y ~ x'\n",
    "results = smf.ols(formula, data=data).fit()\n",
    "# Get our equation of the OLS line\n",
    "intercept = results.params['Intercept']\n",
    "slope = results.params['x']\n",
    "x_vals = np.arange(min(x), max(x), 0.1)\n",
    "ols_line = slope*x_vals + intercept\n",
    "# Plot the OLS line\n",
    "fig, ax = plt.subplots(figsize=(9,5))\n",
    "ax.scatter(data['x'], data['y'])\n",
    "ax.plot(x_vals, ols_line,label='OLS Fit', color='red')\n",
    "ax.ticklabel_format(style='plain')\n",
    "plt.xlabel('x',fontsize=18)\n",
    "plt.ylabel('y',fontsize=18)\n",
    "plt.xticks(fontsize=18)\n",
    "plt.yticks(fontsize=18)\n",
    "plt.legend(fontsize=16)\n",
    "plt.show()"
   ]
  },
  {
   "cell_type": "code",
   "execution_count": 32,
   "id": "00d0b904-24f4-4eef-acb9-9434db1221ff",
   "metadata": {},
   "outputs": [
    {
     "data": {
      "text/plain": [
       "0.8809527049598542"
      ]
     },
     "execution_count": 32,
     "metadata": {},
     "output_type": "execute_result"
    }
   ],
   "source": [
    "intercept"
   ]
  },
  {
   "cell_type": "code",
   "execution_count": 33,
   "id": "cde87deb-2034-449a-bd41-408f85093931",
   "metadata": {},
   "outputs": [
    {
     "data": {
      "text/plain": [
       "69.69843971555555"
      ]
     },
     "execution_count": 33,
     "metadata": {},
     "output_type": "execute_result"
    }
   ],
   "source": [
    "slope"
   ]
  },
  {
   "cell_type": "code",
   "execution_count": 34,
   "id": "635ab7b9-3c25-4eef-9c51-de81252aa38a",
   "metadata": {},
   "outputs": [
    {
     "data": {
      "text/html": [
       "<div>\n",
       "<style scoped>\n",
       "    .dataframe tbody tr th:only-of-type {\n",
       "        vertical-align: middle;\n",
       "    }\n",
       "\n",
       "    .dataframe tbody tr th {\n",
       "        vertical-align: top;\n",
       "    }\n",
       "\n",
       "    .dataframe thead th {\n",
       "        text-align: right;\n",
       "    }\n",
       "</style>\n",
       "<table border=\"1\" class=\"dataframe\">\n",
       "  <thead>\n",
       "    <tr style=\"text-align: right;\">\n",
       "      <th></th>\n",
       "      <th>slope</th>\n",
       "      <th>Prior</th>\n",
       "    </tr>\n",
       "  </thead>\n",
       "  <tbody>\n",
       "    <tr>\n",
       "      <th>0</th>\n",
       "      <td>55.758752</td>\n",
       "      <td>0.033333</td>\n",
       "    </tr>\n",
       "    <tr>\n",
       "      <th>1</th>\n",
       "      <td>56.720110</td>\n",
       "      <td>0.033333</td>\n",
       "    </tr>\n",
       "    <tr>\n",
       "      <th>2</th>\n",
       "      <td>57.681467</td>\n",
       "      <td>0.033333</td>\n",
       "    </tr>\n",
       "    <tr>\n",
       "      <th>3</th>\n",
       "      <td>58.642825</td>\n",
       "      <td>0.033333</td>\n",
       "    </tr>\n",
       "    <tr>\n",
       "      <th>4</th>\n",
       "      <td>59.604183</td>\n",
       "      <td>0.033333</td>\n",
       "    </tr>\n",
       "  </tbody>\n",
       "</table>\n",
       "</div>"
      ],
      "text/plain": [
       "       slope     Prior\n",
       "0  55.758752  0.033333\n",
       "1  56.720110  0.033333\n",
       "2  57.681467  0.033333\n",
       "3  58.642825  0.033333\n",
       "4  59.604183  0.033333"
      ]
     },
     "execution_count": 34,
     "metadata": {},
     "output_type": "execute_result"
    }
   ],
   "source": [
    "def make_uninformative_prior(name,data):\n",
    "    \"\"\"Function to make priors.\"\"\"\n",
    "    df = pd.DataFrame({name:data})\n",
    "    #df['Probability'] = 1/len(data)\n",
    "    df['Prior'] = 1/len(data)\n",
    "    return df\n",
    "# Create a range of values for the slope\n",
    "data_slope = np.linspace(results.params['x']*0.8,\n",
    "                         results.params['x']*1.2, num=30)\n",
    "prior_slope = make_uninformative_prior('slope',data_slope)\n",
    "prior_slope.head()"
   ]
  },
  {
   "cell_type": "code",
   "execution_count": 35,
   "id": "95a13801-972a-40c4-b6c3-2222e8c480e8",
   "metadata": {},
   "outputs": [
    {
     "data": {
      "text/plain": [
       "array([55.75875177, 56.72010956, 57.68146735, 58.64282514, 59.60418293,\n",
       "       60.56554072, 61.52689851, 62.4882563 , 63.44961409, 64.41097188,\n",
       "       65.37232966, 66.33368745, 67.29504524, 68.25640303, 69.21776082,\n",
       "       70.17911861, 71.1404764 , 72.10183419, 73.06319198, 74.02454977,\n",
       "       74.98590756, 75.94726535, 76.90862313, 77.86998092, 78.83133871,\n",
       "       79.7926965 , 80.75405429, 81.71541208, 82.67676987, 83.63812766])"
      ]
     },
     "execution_count": 35,
     "metadata": {},
     "output_type": "execute_result"
    }
   ],
   "source": [
    "data_slope"
   ]
  },
  {
   "cell_type": "code",
   "execution_count": 36,
   "id": "4399c113-6eea-4f47-a95b-1d3eaaffa145",
   "metadata": {},
   "outputs": [
    {
     "data": {
      "text/html": [
       "<div>\n",
       "<style scoped>\n",
       "    .dataframe tbody tr th:only-of-type {\n",
       "        vertical-align: middle;\n",
       "    }\n",
       "\n",
       "    .dataframe tbody tr th {\n",
       "        vertical-align: top;\n",
       "    }\n",
       "\n",
       "    .dataframe thead th {\n",
       "        text-align: right;\n",
       "    }\n",
       "</style>\n",
       "<table border=\"1\" class=\"dataframe\">\n",
       "  <thead>\n",
       "    <tr style=\"text-align: right;\">\n",
       "      <th></th>\n",
       "      <th>intercept</th>\n",
       "      <th>Prior</th>\n",
       "    </tr>\n",
       "  </thead>\n",
       "  <tbody>\n",
       "    <tr>\n",
       "      <th>0</th>\n",
       "      <td>0.704762</td>\n",
       "      <td>0.033333</td>\n",
       "    </tr>\n",
       "    <tr>\n",
       "      <th>1</th>\n",
       "      <td>0.716913</td>\n",
       "      <td>0.033333</td>\n",
       "    </tr>\n",
       "    <tr>\n",
       "      <th>2</th>\n",
       "      <td>0.729064</td>\n",
       "      <td>0.033333</td>\n",
       "    </tr>\n",
       "    <tr>\n",
       "      <th>3</th>\n",
       "      <td>0.741215</td>\n",
       "      <td>0.033333</td>\n",
       "    </tr>\n",
       "    <tr>\n",
       "      <th>4</th>\n",
       "      <td>0.753366</td>\n",
       "      <td>0.033333</td>\n",
       "    </tr>\n",
       "  </tbody>\n",
       "</table>\n",
       "</div>"
      ],
      "text/plain": [
       "   intercept     Prior\n",
       "0   0.704762  0.033333\n",
       "1   0.716913  0.033333\n",
       "2   0.729064  0.033333\n",
       "3   0.741215  0.033333\n",
       "4   0.753366  0.033333"
      ]
     },
     "execution_count": 36,
     "metadata": {},
     "output_type": "execute_result"
    }
   ],
   "source": [
    "# Create a range of values for the intercept\n",
    "data_inter = np.linspace(results.params['Intercept']*0.8,\n",
    "                         results.params['Intercept']*1.2, num=30)\n",
    "prior_inter = make_uninformative_prior('intercept',data_inter)\n",
    "prior_inter.head()"
   ]
  },
  {
   "cell_type": "code",
   "execution_count": 37,
   "id": "acbab454-dcd3-493e-91c8-3f1755716678",
   "metadata": {},
   "outputs": [
    {
     "data": {
      "text/html": [
       "<div>\n",
       "<style scoped>\n",
       "    .dataframe tbody tr th:only-of-type {\n",
       "        vertical-align: middle;\n",
       "    }\n",
       "\n",
       "    .dataframe tbody tr th {\n",
       "        vertical-align: top;\n",
       "    }\n",
       "\n",
       "    .dataframe thead th {\n",
       "        text-align: right;\n",
       "    }\n",
       "</style>\n",
       "<table border=\"1\" class=\"dataframe\">\n",
       "  <thead>\n",
       "    <tr style=\"text-align: right;\">\n",
       "      <th></th>\n",
       "      <th>sigma</th>\n",
       "      <th>Prior</th>\n",
       "    </tr>\n",
       "  </thead>\n",
       "  <tbody>\n",
       "    <tr>\n",
       "      <th>0</th>\n",
       "      <td>7.965860</td>\n",
       "      <td>0.033333</td>\n",
       "    </tr>\n",
       "    <tr>\n",
       "      <th>1</th>\n",
       "      <td>8.103203</td>\n",
       "      <td>0.033333</td>\n",
       "    </tr>\n",
       "    <tr>\n",
       "      <th>2</th>\n",
       "      <td>8.240545</td>\n",
       "      <td>0.033333</td>\n",
       "    </tr>\n",
       "    <tr>\n",
       "      <th>3</th>\n",
       "      <td>8.377888</td>\n",
       "      <td>0.033333</td>\n",
       "    </tr>\n",
       "    <tr>\n",
       "      <th>4</th>\n",
       "      <td>8.515230</td>\n",
       "      <td>0.033333</td>\n",
       "    </tr>\n",
       "  </tbody>\n",
       "</table>\n",
       "</div>"
      ],
      "text/plain": [
       "      sigma     Prior\n",
       "0  7.965860  0.033333\n",
       "1  8.103203  0.033333\n",
       "2  8.240545  0.033333\n",
       "3  8.377888  0.033333\n",
       "4  8.515230  0.033333"
      ]
     },
     "execution_count": 37,
     "metadata": {},
     "output_type": "execute_result"
    }
   ],
   "source": [
    "# Create a range of values for the sigma\n",
    "data_sigma = np.linspace(results.resid.std()*0.8,\n",
    "                         results.resid.std()*1.2, num=30)\n",
    "prior_sigma = make_uninformative_prior('sigma',data_sigma)\n",
    "prior_sigma.head()"
   ]
  },
  {
   "cell_type": "code",
   "execution_count": 38,
   "id": "d12360a8-53f2-41df-8708-2f4287293bc7",
   "metadata": {},
   "outputs": [],
   "source": [
    "# Counter for the row index\n",
    "counter = 0\n",
    "# Dataframe to store the combinations in\n",
    "df = pd.DataFrame(columns=['slope','intercept','sigma','prior'])\n",
    "# Iterate through the slope\n",
    "for slope in prior_slope['slope']:\n",
    "    prob_slope = prior_slope['Prior'].loc[prior_slope['slope'] == slope]\n",
    "    \n",
    "    # Iterate through the intercept\n",
    "    for intercept in prior_inter['intercept']:\n",
    "        prob_inter = prior_inter['Prior'].loc[prior_inter['intercept'] == intercept]\n",
    "        \n",
    "        # Iterate through the error\n",
    "        for sigma in prior_sigma['sigma']:\n",
    "            prob_sigma = prior_sigma['Prior'].loc[prior_sigma['sigma'] == sigma]\n",
    "            \n",
    "            # Calculate the prior of this specific combination\n",
    "            prob = float(prob_slope)*float(prob_inter)*float(prob_sigma)\n",
    "\n",
    "            # Insert the row of data\n",
    "            df.loc[counter] = [slope] + [intercept] + [sigma] + [prob]\n",
    "            \n",
    "            # Update row index\n",
    "            counter += 1"
   ]
  },
  {
   "cell_type": "code",
   "execution_count": 39,
   "id": "96fcdfc4-ef31-4a5f-ac02-8e79027d0266",
   "metadata": {},
   "outputs": [
    {
     "data": {
      "text/html": [
       "<div>\n",
       "<style scoped>\n",
       "    .dataframe tbody tr th:only-of-type {\n",
       "        vertical-align: middle;\n",
       "    }\n",
       "\n",
       "    .dataframe tbody tr th {\n",
       "        vertical-align: top;\n",
       "    }\n",
       "\n",
       "    .dataframe thead th {\n",
       "        text-align: right;\n",
       "    }\n",
       "</style>\n",
       "<table border=\"1\" class=\"dataframe\">\n",
       "  <thead>\n",
       "    <tr style=\"text-align: right;\">\n",
       "      <th></th>\n",
       "      <th>slope</th>\n",
       "      <th>intercept</th>\n",
       "      <th>sigma</th>\n",
       "      <th>prior</th>\n",
       "    </tr>\n",
       "  </thead>\n",
       "  <tbody>\n",
       "    <tr>\n",
       "      <th>0</th>\n",
       "      <td>55.758752</td>\n",
       "      <td>0.704762</td>\n",
       "      <td>7.965860</td>\n",
       "      <td>0.000037</td>\n",
       "    </tr>\n",
       "    <tr>\n",
       "      <th>1</th>\n",
       "      <td>55.758752</td>\n",
       "      <td>0.704762</td>\n",
       "      <td>8.103203</td>\n",
       "      <td>0.000037</td>\n",
       "    </tr>\n",
       "    <tr>\n",
       "      <th>2</th>\n",
       "      <td>55.758752</td>\n",
       "      <td>0.704762</td>\n",
       "      <td>8.240545</td>\n",
       "      <td>0.000037</td>\n",
       "    </tr>\n",
       "    <tr>\n",
       "      <th>3</th>\n",
       "      <td>55.758752</td>\n",
       "      <td>0.704762</td>\n",
       "      <td>8.377888</td>\n",
       "      <td>0.000037</td>\n",
       "    </tr>\n",
       "    <tr>\n",
       "      <th>4</th>\n",
       "      <td>55.758752</td>\n",
       "      <td>0.704762</td>\n",
       "      <td>8.515230</td>\n",
       "      <td>0.000037</td>\n",
       "    </tr>\n",
       "    <tr>\n",
       "      <th>...</th>\n",
       "      <td>...</td>\n",
       "      <td>...</td>\n",
       "      <td>...</td>\n",
       "      <td>...</td>\n",
       "    </tr>\n",
       "    <tr>\n",
       "      <th>26995</th>\n",
       "      <td>83.638128</td>\n",
       "      <td>1.057143</td>\n",
       "      <td>11.399421</td>\n",
       "      <td>0.000037</td>\n",
       "    </tr>\n",
       "    <tr>\n",
       "      <th>26996</th>\n",
       "      <td>83.638128</td>\n",
       "      <td>1.057143</td>\n",
       "      <td>11.536763</td>\n",
       "      <td>0.000037</td>\n",
       "    </tr>\n",
       "    <tr>\n",
       "      <th>26997</th>\n",
       "      <td>83.638128</td>\n",
       "      <td>1.057143</td>\n",
       "      <td>11.674106</td>\n",
       "      <td>0.000037</td>\n",
       "    </tr>\n",
       "    <tr>\n",
       "      <th>26998</th>\n",
       "      <td>83.638128</td>\n",
       "      <td>1.057143</td>\n",
       "      <td>11.811448</td>\n",
       "      <td>0.000037</td>\n",
       "    </tr>\n",
       "    <tr>\n",
       "      <th>26999</th>\n",
       "      <td>83.638128</td>\n",
       "      <td>1.057143</td>\n",
       "      <td>11.948790</td>\n",
       "      <td>0.000037</td>\n",
       "    </tr>\n",
       "  </tbody>\n",
       "</table>\n",
       "<p>27000 rows × 4 columns</p>\n",
       "</div>"
      ],
      "text/plain": [
       "           slope  intercept      sigma     prior\n",
       "0      55.758752   0.704762   7.965860  0.000037\n",
       "1      55.758752   0.704762   8.103203  0.000037\n",
       "2      55.758752   0.704762   8.240545  0.000037\n",
       "3      55.758752   0.704762   8.377888  0.000037\n",
       "4      55.758752   0.704762   8.515230  0.000037\n",
       "...          ...        ...        ...       ...\n",
       "26995  83.638128   1.057143  11.399421  0.000037\n",
       "26996  83.638128   1.057143  11.536763  0.000037\n",
       "26997  83.638128   1.057143  11.674106  0.000037\n",
       "26998  83.638128   1.057143  11.811448  0.000037\n",
       "26999  83.638128   1.057143  11.948790  0.000037\n",
       "\n",
       "[27000 rows x 4 columns]"
      ]
     },
     "execution_count": 39,
     "metadata": {},
     "output_type": "execute_result"
    }
   ],
   "source": [
    "df"
   ]
  },
  {
   "cell_type": "code",
   "execution_count": 40,
   "id": "b855718a-8454-4283-8988-f338690597cd",
   "metadata": {},
   "outputs": [],
   "source": [
    "counter = 0\n",
    "df['likelihood'] = df['prior']\n",
    "\n",
    "# Loop over the combination of values\n",
    "for slope in prior_slope['slope']:\n",
    "    for intercept in prior_inter['intercept']:        \n",
    "        for sigma in prior_sigma['sigma']:\n",
    "            \n",
    "            # Compute the predictions from this line\n",
    "            predictions = slope * data['x'] + intercept\n",
    "            \n",
    "            # Compute residual/errors of this line\n",
    "            residuals = data['y'] - predictions\n",
    "            \n",
    "            # Compute the likelihood function\n",
    "            likelihoods = norm(0, sigma).pdf(residuals)\n",
    "            \n",
    "            # Compute the total likelihood\n",
    "            df['likelihood'].loc[counter] = likelihoods.prod()\n",
    "            counter += 1"
   ]
  },
  {
   "cell_type": "code",
   "execution_count": 44,
   "id": "d889ee6c-b907-4b35-8b84-ee9cc48a4f1c",
   "metadata": {},
   "outputs": [
    {
     "data": {
      "text/plain": [
       "0     -0.985524\n",
       "1    -25.668164\n",
       "2      8.293652\n",
       "3      9.049581\n",
       "4    -10.657430\n",
       "        ...    \n",
       "95    -5.435776\n",
       "96    12.447821\n",
       "97   -14.980869\n",
       "98   -11.632154\n",
       "99    20.060462\n",
       "Length: 100, dtype: float64"
      ]
     },
     "execution_count": 44,
     "metadata": {},
     "output_type": "execute_result"
    }
   ],
   "source": [
    "residuals"
   ]
  },
  {
   "cell_type": "code",
   "execution_count": 47,
   "id": "8ffd4e8e-ab2e-464c-9d78-31184a699535",
   "metadata": {},
   "outputs": [
    {
     "data": {
      "text/plain": [
       "5.557783497460178e-196"
      ]
     },
     "execution_count": 47,
     "metadata": {},
     "output_type": "execute_result"
    }
   ],
   "source": [
    "likelihoods.prod()"
   ]
  },
  {
   "cell_type": "code",
   "execution_count": 41,
   "id": "f01cf6cf-e2f5-48aa-8695-eac7f0798901",
   "metadata": {},
   "outputs": [
    {
     "data": {
      "text/html": [
       "<div>\n",
       "<style scoped>\n",
       "    .dataframe tbody tr th:only-of-type {\n",
       "        vertical-align: middle;\n",
       "    }\n",
       "\n",
       "    .dataframe tbody tr th {\n",
       "        vertical-align: top;\n",
       "    }\n",
       "\n",
       "    .dataframe thead th {\n",
       "        text-align: right;\n",
       "    }\n",
       "</style>\n",
       "<table border=\"1\" class=\"dataframe\">\n",
       "  <thead>\n",
       "    <tr style=\"text-align: right;\">\n",
       "      <th></th>\n",
       "      <th>slope</th>\n",
       "      <th>intercept</th>\n",
       "      <th>sigma</th>\n",
       "      <th>prior</th>\n",
       "      <th>likelihood</th>\n",
       "    </tr>\n",
       "  </thead>\n",
       "  <tbody>\n",
       "    <tr>\n",
       "      <th>0</th>\n",
       "      <td>55.758752</td>\n",
       "      <td>0.704762</td>\n",
       "      <td>7.965860</td>\n",
       "      <td>0.000037</td>\n",
       "      <td>6.868932e-238</td>\n",
       "    </tr>\n",
       "    <tr>\n",
       "      <th>1</th>\n",
       "      <td>55.758752</td>\n",
       "      <td>0.704762</td>\n",
       "      <td>8.103203</td>\n",
       "      <td>0.000037</td>\n",
       "      <td>4.957534e-235</td>\n",
       "    </tr>\n",
       "    <tr>\n",
       "      <th>2</th>\n",
       "      <td>55.758752</td>\n",
       "      <td>0.704762</td>\n",
       "      <td>8.240545</td>\n",
       "      <td>0.000037</td>\n",
       "      <td>2.441102e-232</td>\n",
       "    </tr>\n",
       "    <tr>\n",
       "      <th>3</th>\n",
       "      <td>55.758752</td>\n",
       "      <td>0.704762</td>\n",
       "      <td>8.377888</td>\n",
       "      <td>0.000037</td>\n",
       "      <td>8.414877e-230</td>\n",
       "    </tr>\n",
       "    <tr>\n",
       "      <th>4</th>\n",
       "      <td>55.758752</td>\n",
       "      <td>0.704762</td>\n",
       "      <td>8.515230</td>\n",
       "      <td>0.000037</td>\n",
       "      <td>2.079414e-227</td>\n",
       "    </tr>\n",
       "    <tr>\n",
       "      <th>...</th>\n",
       "      <td>...</td>\n",
       "      <td>...</td>\n",
       "      <td>...</td>\n",
       "      <td>...</td>\n",
       "      <td>...</td>\n",
       "    </tr>\n",
       "    <tr>\n",
       "      <th>26995</th>\n",
       "      <td>83.638128</td>\n",
       "      <td>1.057143</td>\n",
       "      <td>11.399421</td>\n",
       "      <td>0.000037</td>\n",
       "      <td>1.227890e-198</td>\n",
       "    </tr>\n",
       "    <tr>\n",
       "      <th>26996</th>\n",
       "      <td>83.638128</td>\n",
       "      <td>1.057143</td>\n",
       "      <td>11.536763</td>\n",
       "      <td>0.000037</td>\n",
       "      <td>6.414860e-198</td>\n",
       "    </tr>\n",
       "    <tr>\n",
       "      <th>26997</th>\n",
       "      <td>83.638128</td>\n",
       "      <td>1.057143</td>\n",
       "      <td>11.674106</td>\n",
       "      <td>0.000037</td>\n",
       "      <td>3.075591e-197</td>\n",
       "    </tr>\n",
       "    <tr>\n",
       "      <th>26998</th>\n",
       "      <td>83.638128</td>\n",
       "      <td>1.057143</td>\n",
       "      <td>11.811448</td>\n",
       "      <td>0.000037</td>\n",
       "      <td>1.359091e-196</td>\n",
       "    </tr>\n",
       "    <tr>\n",
       "      <th>26999</th>\n",
       "      <td>83.638128</td>\n",
       "      <td>1.057143</td>\n",
       "      <td>11.948790</td>\n",
       "      <td>0.000037</td>\n",
       "      <td>5.557783e-196</td>\n",
       "    </tr>\n",
       "  </tbody>\n",
       "</table>\n",
       "<p>27000 rows × 5 columns</p>\n",
       "</div>"
      ],
      "text/plain": [
       "           slope  intercept      sigma     prior     likelihood\n",
       "0      55.758752   0.704762   7.965860  0.000037  6.868932e-238\n",
       "1      55.758752   0.704762   8.103203  0.000037  4.957534e-235\n",
       "2      55.758752   0.704762   8.240545  0.000037  2.441102e-232\n",
       "3      55.758752   0.704762   8.377888  0.000037  8.414877e-230\n",
       "4      55.758752   0.704762   8.515230  0.000037  2.079414e-227\n",
       "...          ...        ...        ...       ...            ...\n",
       "26995  83.638128   1.057143  11.399421  0.000037  1.227890e-198\n",
       "26996  83.638128   1.057143  11.536763  0.000037  6.414860e-198\n",
       "26997  83.638128   1.057143  11.674106  0.000037  3.075591e-197\n",
       "26998  83.638128   1.057143  11.811448  0.000037  1.359091e-196\n",
       "26999  83.638128   1.057143  11.948790  0.000037  5.557783e-196\n",
       "\n",
       "[27000 rows x 5 columns]"
      ]
     },
     "execution_count": 41,
     "metadata": {},
     "output_type": "execute_result"
    }
   ],
   "source": [
    "df"
   ]
  },
  {
   "cell_type": "code",
   "execution_count": 50,
   "id": "926c2c29-9a90-4472-9c73-46c47feb6892",
   "metadata": {},
   "outputs": [
    {
     "data": {
      "text/html": [
       "<div>\n",
       "<style scoped>\n",
       "    .dataframe tbody tr th:only-of-type {\n",
       "        vertical-align: middle;\n",
       "    }\n",
       "\n",
       "    .dataframe tbody tr th {\n",
       "        vertical-align: top;\n",
       "    }\n",
       "\n",
       "    .dataframe thead th {\n",
       "        text-align: right;\n",
       "    }\n",
       "</style>\n",
       "<table border=\"1\" class=\"dataframe\">\n",
       "  <thead>\n",
       "    <tr style=\"text-align: right;\">\n",
       "      <th></th>\n",
       "      <th>slope</th>\n",
       "      <th>intercept</th>\n",
       "      <th>sigma</th>\n",
       "      <th>prior</th>\n",
       "      <th>likelihood</th>\n",
       "      <th>posterior</th>\n",
       "      <th>posterior2</th>\n",
       "    </tr>\n",
       "  </thead>\n",
       "  <tbody>\n",
       "    <tr>\n",
       "      <th>0</th>\n",
       "      <td>55.758752</td>\n",
       "      <td>0.704762</td>\n",
       "      <td>7.965860</td>\n",
       "      <td>0.000037</td>\n",
       "      <td>6.868932e-238</td>\n",
       "      <td>2.544049e-242</td>\n",
       "      <td>1.201723e-79</td>\n",
       "    </tr>\n",
       "    <tr>\n",
       "      <th>1</th>\n",
       "      <td>55.758752</td>\n",
       "      <td>0.704762</td>\n",
       "      <td>8.103203</td>\n",
       "      <td>0.000037</td>\n",
       "      <td>4.957534e-235</td>\n",
       "      <td>1.836124e-239</td>\n",
       "      <td>8.673228e-77</td>\n",
       "    </tr>\n",
       "    <tr>\n",
       "      <th>2</th>\n",
       "      <td>55.758752</td>\n",
       "      <td>0.704762</td>\n",
       "      <td>8.240545</td>\n",
       "      <td>0.000037</td>\n",
       "      <td>2.441102e-232</td>\n",
       "      <td>9.041117e-237</td>\n",
       "      <td>4.270718e-74</td>\n",
       "    </tr>\n",
       "    <tr>\n",
       "      <th>3</th>\n",
       "      <td>55.758752</td>\n",
       "      <td>0.704762</td>\n",
       "      <td>8.377888</td>\n",
       "      <td>0.000037</td>\n",
       "      <td>8.414877e-230</td>\n",
       "      <td>3.116621e-234</td>\n",
       "      <td>1.472186e-71</td>\n",
       "    </tr>\n",
       "    <tr>\n",
       "      <th>4</th>\n",
       "      <td>55.758752</td>\n",
       "      <td>0.704762</td>\n",
       "      <td>8.515230</td>\n",
       "      <td>0.000037</td>\n",
       "      <td>2.079414e-227</td>\n",
       "      <td>7.701533e-232</td>\n",
       "      <td>3.637944e-69</td>\n",
       "    </tr>\n",
       "    <tr>\n",
       "      <th>...</th>\n",
       "      <td>...</td>\n",
       "      <td>...</td>\n",
       "      <td>...</td>\n",
       "      <td>...</td>\n",
       "      <td>...</td>\n",
       "      <td>...</td>\n",
       "      <td>...</td>\n",
       "    </tr>\n",
       "    <tr>\n",
       "      <th>26995</th>\n",
       "      <td>83.638128</td>\n",
       "      <td>1.057143</td>\n",
       "      <td>11.399421</td>\n",
       "      <td>0.000037</td>\n",
       "      <td>1.227890e-198</td>\n",
       "      <td>4.547740e-203</td>\n",
       "      <td>2.148199e-40</td>\n",
       "    </tr>\n",
       "    <tr>\n",
       "      <th>26996</th>\n",
       "      <td>83.638128</td>\n",
       "      <td>1.057143</td>\n",
       "      <td>11.536763</td>\n",
       "      <td>0.000037</td>\n",
       "      <td>6.414860e-198</td>\n",
       "      <td>2.375874e-202</td>\n",
       "      <td>1.122283e-39</td>\n",
       "    </tr>\n",
       "    <tr>\n",
       "      <th>26997</th>\n",
       "      <td>83.638128</td>\n",
       "      <td>1.057143</td>\n",
       "      <td>11.674106</td>\n",
       "      <td>0.000037</td>\n",
       "      <td>3.075591e-197</td>\n",
       "      <td>1.139108e-201</td>\n",
       "      <td>5.380760e-39</td>\n",
       "    </tr>\n",
       "    <tr>\n",
       "      <th>26998</th>\n",
       "      <td>83.638128</td>\n",
       "      <td>1.057143</td>\n",
       "      <td>11.811448</td>\n",
       "      <td>0.000037</td>\n",
       "      <td>1.359091e-196</td>\n",
       "      <td>5.033669e-201</td>\n",
       "      <td>2.377735e-38</td>\n",
       "    </tr>\n",
       "    <tr>\n",
       "      <th>26999</th>\n",
       "      <td>83.638128</td>\n",
       "      <td>1.057143</td>\n",
       "      <td>11.948790</td>\n",
       "      <td>0.000037</td>\n",
       "      <td>5.557783e-196</td>\n",
       "      <td>2.058438e-200</td>\n",
       "      <td>9.723367e-38</td>\n",
       "    </tr>\n",
       "  </tbody>\n",
       "</table>\n",
       "<p>27000 rows × 7 columns</p>\n",
       "</div>"
      ],
      "text/plain": [
       "           slope  intercept      sigma     prior     likelihood  \\\n",
       "0      55.758752   0.704762   7.965860  0.000037  6.868932e-238   \n",
       "1      55.758752   0.704762   8.103203  0.000037  4.957534e-235   \n",
       "2      55.758752   0.704762   8.240545  0.000037  2.441102e-232   \n",
       "3      55.758752   0.704762   8.377888  0.000037  8.414877e-230   \n",
       "4      55.758752   0.704762   8.515230  0.000037  2.079414e-227   \n",
       "...          ...        ...        ...       ...            ...   \n",
       "26995  83.638128   1.057143  11.399421  0.000037  1.227890e-198   \n",
       "26996  83.638128   1.057143  11.536763  0.000037  6.414860e-198   \n",
       "26997  83.638128   1.057143  11.674106  0.000037  3.075591e-197   \n",
       "26998  83.638128   1.057143  11.811448  0.000037  1.359091e-196   \n",
       "26999  83.638128   1.057143  11.948790  0.000037  5.557783e-196   \n",
       "\n",
       "           posterior    posterior2  \n",
       "0      2.544049e-242  1.201723e-79  \n",
       "1      1.836124e-239  8.673228e-77  \n",
       "2      9.041117e-237  4.270718e-74  \n",
       "3      3.116621e-234  1.472186e-71  \n",
       "4      7.701533e-232  3.637944e-69  \n",
       "...              ...           ...  \n",
       "26995  4.547740e-203  2.148199e-40  \n",
       "26996  2.375874e-202  1.122283e-39  \n",
       "26997  1.139108e-201  5.380760e-39  \n",
       "26998  5.033669e-201  2.377735e-38  \n",
       "26999  2.058438e-200  9.723367e-38  \n",
       "\n",
       "[27000 rows x 7 columns]"
      ]
     },
     "execution_count": 50,
     "metadata": {},
     "output_type": "execute_result"
    }
   ],
   "source": [
    "# Computing and normalising the posterior\n",
    "df['posterior'] = df['prior'] * df['likelihood']\n",
    "df['posterior2'] = df['posterior']/df['posterior'].sum()\n",
    "df"
   ]
  },
  {
   "cell_type": "code",
   "execution_count": 51,
   "id": "cfafbf04-1866-4d12-9dda-f887cc8b0336",
   "metadata": {},
   "outputs": [],
   "source": [
    "# Get the marginal probability\n",
    "slope_df = df.groupby('slope').sum()"
   ]
  },
  {
   "cell_type": "code",
   "execution_count": 56,
   "id": "ae09fcca-bb83-400c-88dd-28d745169f55",
   "metadata": {},
   "outputs": [
    {
     "data": {
      "image/png": "[encoded data removed]",
      "text/plain": [
       "<Figure size 800x500 with 1 Axes>"
      ]
     },
     "metadata": {},
     "output_type": "display_data"
    }
   ],
   "source": [
    "# Plot the posterior distribution of the slope\n",
    "plt.figure(figsize=(8,5))\n",
    "plt.plot(slope_df.index, slope_df.posterior2, linewidth=3)\n",
    "plt.xticks(fontsize=18)\n",
    "plt.yticks(fontsize=18)\n",
    "plt.xlabel('Slope Value', fontsize=18)\n",
    "plt.ylabel('PDF', fontsize=18)\n",
    "plt.axvline(results.params['x'], color='red', ls='--', label='OLS Estimate')\n",
    "plt.legend(fontsize=16)\n",
    "plt.tight_layout()\n",
    "#plt.savefig('c.png')\n",
    "plt.show()"
   ]
  },
  {
   "cell_type": "code",
   "execution_count": 57,
   "id": "e2d8e95e-dd5a-4bd0-a9e5-c6a1fb252926",
   "metadata": {},
   "outputs": [],
   "source": [
    "# Get the marginal probability\n",
    "intercept_df = df.groupby('intercept').sum()"
   ]
  },
  {
   "cell_type": "code",
   "execution_count": 58,
   "id": "88d96af9-a0a1-43b6-8266-eefd14598199",
   "metadata": {},
   "outputs": [
    {
     "data": {
      "image/png": "[encoded data removed]",
      "text/plain": [
       "<Figure size 800x500 with 1 Axes>"
      ]
     },
     "metadata": {},
     "output_type": "display_data"
    }
   ],
   "source": [
    "\n",
    "# Plot the posterior distribution of the slope\n",
    "plt.figure(figsize=(8,5))\n",
    "plt.plot(intercept_df.index, intercept_df.posterior2, linewidth=3)\n",
    "plt.xticks(fontsize=18)\n",
    "plt.yticks(fontsize=18)\n",
    "plt.xlabel('Intercept Value', fontsize=18)\n",
    "plt.ylabel('PDF', fontsize=18)\n",
    "plt.axvline(results.params['Intercept'], color='red', ls='--', label='OLS Estimate')\n",
    "plt.legend(fontsize=16)\n",
    "plt.tight_layout()\n",
    "#plt.savefig('c.png')\n",
    "plt.show()"
   ]
  },
  {
   "cell_type": "code",
   "execution_count": 59,
   "id": "ae8836cb-2fb5-4746-99df-3155148025d6",
   "metadata": {},
   "outputs": [],
   "source": [
    "# Get the marginal probability\n",
    "sigma_df = df.groupby('sigma').sum()"
   ]
  },
  {
   "cell_type": "code",
   "execution_count": 60,
   "id": "f24122bb-ef57-43f7-a02d-e49e9e77b250",
   "metadata": {},
   "outputs": [
    {
     "data": {
      "image/png": "[encoded data removed]",
      "text/plain": [
       "<Figure size 800x500 with 1 Axes>"
      ]
     },
     "metadata": {},
     "output_type": "display_data"
    }
   ],
   "source": [
    "# Plot the posterior distribution of the slope\n",
    "plt.figure(figsize=(8,5))\n",
    "plt.plot(sigma_df.index, sigma_df.posterior2, linewidth=3)\n",
    "plt.xticks(fontsize=18)\n",
    "plt.yticks(fontsize=18)\n",
    "plt.xlabel('Sigma Value', fontsize=18)\n",
    "plt.ylabel('PDF', fontsize=18)\n",
    "plt.axvline(results.resid.std(), color='red', ls='--', label='OLS Estimate')\n",
    "plt.legend(fontsize=16)\n",
    "plt.tight_layout()\n",
    "#plt.savefig('d.png')\n",
    "plt.show()"
   ]
  },
  {
   "cell_type": "code",
   "execution_count": null,
   "id": "ab31cf94-e5c3-4a0d-8e62-5bf3827f3acd",
   "metadata": {},
   "outputs": [],
   "source": []
  }
 ],
 "metadata": {
  "kernelspec": {
   "display_name": "venv_myblog",
   "language": "python",
   "name": "venv_myblog"
  },
  "language_info": {
   "codemirror_mode": {
    "name": "ipython",
    "version": 3
   },
   "file_extension": ".py",
   "mimetype": "text/x-python",
   "name": "python",
   "nbconvert_exporter": "python",
   "pygments_lexer": "ipython3",
   "version": "3.11.5"
  }
 },
 "nbformat": 4,
 "nbformat_minor": 5
}
